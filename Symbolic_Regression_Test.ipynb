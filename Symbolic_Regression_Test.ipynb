{
  "cells": [
    {
      "cell_type": "markdown",
      "metadata": {
        "id": "view-in-github",
        "colab_type": "text"
      },
      "source": [
        "<a href=\"https://colab.research.google.com/github/iammhk/symbolic_regression/blob/main/Symbolic_Regression_Test.ipynb\" target=\"_parent\"><img src=\"https://colab.research.google.com/assets/colab-badge.svg\" alt=\"Open In Colab\"/></a>"
      ]
    },
    {
      "cell_type": "code",
      "execution_count": null,
      "metadata": {
        "colab": {
          "background_save": true,
          "base_uri": "https://localhost:8080/"
        },
        "id": "nxd2CXtyvRSf",
        "outputId": "db416966-6fc7-47d1-e7bf-35c96eda955c"
      },
      "outputs": [
        {
          "name": "stdout",
          "output_type": "stream",
          "text": [
            "Installing Julia 1.7.1 on the current Colab Runtime...\n",
            "2022-03-04 14:22:20 URL:https://storage.googleapis.com/julialang2/bin/linux/x64/1.7/julia-1.7.1-linux-x86_64.tar.gz [123374573/123374573] -> \"/tmp/julia.tar.gz\" [1]\n",
            "Installing Julia package IJulia...\n",
            "Installing Julia package BenchmarkTools...\n",
            "Installing Julia package PyCall...\n",
            "Installing Julia package PyPlot...\n",
            "Installing IJulia kernel...\n",
            "\u001b[36m\u001b[1m[ \u001b[22m\u001b[39m\u001b[36m\u001b[1mInfo: \u001b[22m\u001b[39mInstalling julia kernelspec in /root/.local/share/jupyter/kernels/julia-1.7\n",
            "\n",
            "Successfully installed julia version 1.7.1!\n",
            "Please reload this page (press Ctrl+R, ⌘+R, or the F5 key) then\n",
            "jump to the 'Checking the Installation' section.\n"
          ]
        },
        {
          "data": {
            "text/plain": [
              ""
            ]
          },
          "execution_count": null,
          "metadata": {},
          "output_type": "execute_result"
        }
      ],
      "source": [
        "%%shell\n",
        "set -e\n",
        "\n",
        "#---------------------------------------------------#\n",
        "JULIA_VERSION=\"1.7.1\" # any version ≥ 0.7.0\n",
        "JULIA_PACKAGES=\"IJulia BenchmarkTools PyCall PyPlot\"\n",
        "JULIA_PACKAGES_IF_GPU=\"CUDA\"\n",
        "JULIA_NUM_THREADS=4\n",
        "#---------------------------------------------------#\n",
        "\n",
        "if [ -n \"$COLAB_GPU\" ] && [ -z `which julia` ]; then\n",
        "  # Install Julia\n",
        "  JULIA_VER=`cut -d '.' -f -2 <<< \"$JULIA_VERSION\"`\n",
        "  echo \"Installing Julia $JULIA_VERSION on the current Colab Runtime...\"\n",
        "  BASE_URL=\"https://julialang-s3.julialang.org/bin/linux/x64\"\n",
        "  URL=\"$BASE_URL/$JULIA_VER/julia-$JULIA_VERSION-linux-x86_64.tar.gz\"\n",
        "  wget -nv $URL -O /tmp/julia.tar.gz # -nv means \"not verbose\"\n",
        "  tar -x -f /tmp/julia.tar.gz -C /usr/local --strip-components 1\n",
        "  rm /tmp/julia.tar.gz\n",
        "\n",
        "  # Install Packages\n",
        "  if [ \"$COLAB_GPU\" = \"1\" ]; then\n",
        "      JULIA_PACKAGES=\"$JULIA_PACKAGES $JULIA_PACKAGES_IF_GPU\"\n",
        "  fi\n",
        "  for PKG in `echo $JULIA_PACKAGES`; do\n",
        "    echo \"Installing Julia package $PKG...\"\n",
        "    julia -e 'using Pkg; pkg\"add '$PKG'; precompile;\"' &> /dev/null\n",
        "  done\n",
        "\n",
        "  # Install kernel and rename it to \"julia\"\n",
        "  echo \"Installing IJulia kernel...\"\n",
        "  julia -e 'using IJulia; IJulia.installkernel(\"julia\", env=Dict(\n",
        "      \"JULIA_NUM_THREADS\"=>\"'\"$JULIA_NUM_THREADS\"'\"))'\n",
        "  KERNEL_DIR=`julia -e \"using IJulia; print(IJulia.kerneldir())\"`\n",
        "  KERNEL_NAME=`ls -d \"$KERNEL_DIR\"/julia*`\n",
        "  mv -f $KERNEL_NAME \"$KERNEL_DIR\"/julia  \n",
        "\n",
        "  echo ''\n",
        "  echo \"Successfully installed `julia -v`!\"\n",
        "  echo \"Please reload this page (press Ctrl+R, ⌘+R, or the F5 key) then\"\n",
        "  echo \"jump to the 'Checking the Installation' section.\"\n",
        "fi"
      ]
    },
    {
      "cell_type": "code",
      "execution_count": null,
      "metadata": {
        "colab": {
          "background_save": true
        },
        "id": "ySu2EW861jtT",
        "outputId": "eb75d887-a862-4d12-b555-4dd9091b34bf"
      },
      "outputs": [
        {
          "name": "stdout",
          "output_type": "stream",
          "text": [
            "Collecting julia\n",
            "  Downloading julia-0.5.7-py2.py3-none-any.whl (67 kB)\n",
            "\u001b[?25l\r\u001b[K     |████▉                           | 10 kB 25.5 MB/s eta 0:00:01\r\u001b[K     |█████████▊                      | 20 kB 29.6 MB/s eta 0:00:01\r\u001b[K     |██████████████▌                 | 30 kB 32.5 MB/s eta 0:00:01\r\u001b[K     |███████████████████▍            | 40 kB 17.6 MB/s eta 0:00:01\r\u001b[K     |████████████████████████▎       | 51 kB 6.1 MB/s eta 0:00:01\r\u001b[K     |█████████████████████████████   | 61 kB 7.1 MB/s eta 0:00:01\r\u001b[K     |████████████████████████████████| 67 kB 3.1 MB/s \n",
            "\u001b[?25hInstalling collected packages: julia\n",
            "Successfully installed julia-0.5.7\n",
            "Collecting pysr\n",
            "  Downloading pysr-0.7.9-py3-none-any.whl (37 kB)\n",
            "Requirement already satisfied: pandas in /usr/local/lib/python3.7/dist-packages (from pysr) (1.3.5)\n",
            "Requirement already satisfied: scikit-learn in /usr/local/lib/python3.7/dist-packages (from pysr) (1.0.2)\n",
            "Requirement already satisfied: numpy in /usr/local/lib/python3.7/dist-packages (from pysr) (1.21.5)\n",
            "Requirement already satisfied: julia>=0.5.7 in /usr/local/lib/python3.7/dist-packages (from pysr) (0.5.7)\n",
            "Requirement already satisfied: sympy in /usr/local/lib/python3.7/dist-packages (from pysr) (1.7.1)\n",
            "Requirement already satisfied: python-dateutil>=2.7.3 in /usr/local/lib/python3.7/dist-packages (from pandas->pysr) (2.8.2)\n",
            "Requirement already satisfied: pytz>=2017.3 in /usr/local/lib/python3.7/dist-packages (from pandas->pysr) (2018.9)\n",
            "Requirement already satisfied: six>=1.5 in /usr/local/lib/python3.7/dist-packages (from python-dateutil>=2.7.3->pandas->pysr) (1.15.0)\n",
            "Requirement already satisfied: threadpoolctl>=2.0.0 in /usr/local/lib/python3.7/dist-packages (from scikit-learn->pysr) (3.1.0)\n",
            "Requirement already satisfied: joblib>=0.11 in /usr/local/lib/python3.7/dist-packages (from scikit-learn->pysr) (1.1.0)\n",
            "Requirement already satisfied: scipy>=1.1.0 in /usr/local/lib/python3.7/dist-packages (from scikit-learn->pysr) (1.4.1)\n",
            "Requirement already satisfied: mpmath>=0.19 in /usr/local/lib/python3.7/dist-packages (from sympy->pysr) (1.2.1)\n",
            "Installing collected packages: pysr\n",
            "Successfully installed pysr-0.7.9\n"
          ]
        }
      ],
      "source": [
        "!pip install julia\n",
        "!pip install pysr"
      ]
    },
    {
      "cell_type": "code",
      "execution_count": null,
      "metadata": {
        "colab": {
          "background_save": true
        },
        "id": "iHAP6CMs1V8j"
      },
      "outputs": [],
      "source": [
        "import numpy as np\n",
        "import pysr\n",
        "pysr.silence_julia_warning()"
      ]
    },
    {
      "cell_type": "code",
      "execution_count": null,
      "metadata": {
        "colab": {
          "background_save": true
        },
        "id": "FHwjjcFjnudt"
      },
      "outputs": [],
      "source": [
        "def RG_decimation(config):\n",
        "    #config=config.reshape(config.shape[0] * config.shape[1])\n",
        "    half_root= int(np.sqrt(config.shape[0]/2))\n",
        "    RG_config = np.zeros([int(config.shape[0]),int(config.shape[1]/2)])\n",
        "    #print(config.shape,RG_config.shape)\n",
        "    for i in range(config.shape[0]):\n",
        "        for j in range(config.shape[1]):\n",
        "            if ((i+j)%2==0): RG_config[int(i),int(j/2)] = config[i,j]\n",
        "    #print(\"Initial\",config)\n",
        "    #print(\"RG:\",RG_config.T)\n",
        "    return RG_config\n",
        "\n",
        "def RG_decimation_2(config):\n",
        "    #config=config.reshape(config.shape[0] * config.shape[1])\n",
        "    RG_config = np.zeros([int(config.shape[0]/2),int(config.shape[1])])\n",
        "    #print(config.shape,RG_config.shape)\n",
        "    for i in range(config.shape[0]):\n",
        "        for j in range(config.shape[1]):\n",
        "            if ((i)%2==0): RG_config[int(i/2),int(j)] = config[i,j]\n",
        "    #print(\"Initial\",config)\n",
        "    #print(\"RG:\",RG_config.T)\n",
        "    return RG_config\n"
      ]
    },
    {
      "cell_type": "code",
      "execution_count": null,
      "metadata": {
        "colab": {
          "background_save": true
        },
        "id": "0tioFUqhYNeN",
        "outputId": "76742fd7-c3e5-4f62-ab3f-856d9397a700"
      },
      "outputs": [
        {
          "name": "stdout",
          "output_type": "stream",
          "text": [
            "(1700,)\n",
            "0.181 4.23\n"
          ]
        }
      ],
      "source": [
        "from numpy import genfromtxt\n",
        "mydata = genfromtxt('scope_0_1.csv', delimiter=',')\n",
        "X = mydata[:16999:10,0]\n",
        "y = mydata[:16999:10,1]\n",
        "print(X.shape)\n",
        "print(X[-1],y[-1])"
      ]
    },
    {
      "cell_type": "code",
      "execution_count": null,
      "metadata": {
        "colab": {
          "background_save": true
        },
        "id": "5RAmM6ERZkjU",
        "outputId": "d32fea86-6439-474a-f59e-1ce98741b82d"
      },
      "outputs": [
        {
          "data": {
            "text/plain": [
              "[<matplotlib.lines.Line2D at 0x7f49f074e2d0>]"
            ]
          },
          "execution_count": null,
          "metadata": {},
          "output_type": "execute_result"
        },
        {
          "data": {
            "image/png": "[encoded data removed]",
            "text/plain": [
              "<Figure size 432x288 with 1 Axes>"
            ]
          },
          "metadata": {},
          "output_type": "display_data"
        }
      ],
      "source": [
        "import matplotlib.pyplot as plt\n",
        "\n",
        "plt.plot(X,y)"
      ]
    },
    {
      "cell_type": "code",
      "execution_count": null,
      "metadata": {
        "colab": {
          "background_save": true
        },
        "id": "ScCulT_r1sod",
        "outputId": "cad58d17-a46e-4590-9cf5-0831f38a6c01"
      },
      "outputs": [
        {
          "data": {
            "application/vnd.google.colaboratory.intrinsic+json": {
              "type": "string"
            },
            "text/plain": [
              "'y = np.zeros((data_num, size, int(size/2)))\\nprint(y.shape)\\nfor i in range (data_num):\\n  lat=RG_decimation(X[i])\\n  y[i] = lat'"
            ]
          },
          "execution_count": null,
          "metadata": {},
          "output_type": "execute_result"
        }
      ],
      "source": [
        "#X = 2 * np.random.randn(100, 5)\n",
        "data_num=100\n",
        "size=4\n",
        "#X = 2 * np.random.randn(100, 5)\n",
        "#X=np.random.choice([-1, 1], size=(data_num, size, size))\n",
        "#print(X[0])\n",
        "#y = np.cos(X[:, 3]) #+ X[:, 0] ** 2 - (0.5*X[:, 2])\n",
        "'''y = np.zeros((data_num, size, int(size/2)))\n",
        "print(y.shape)\n",
        "for i in range (data_num):\n",
        "  lat=RG_decimation(X[i])\n",
        "  y[i] = lat'''\n",
        "#model = PySRRegressor(binary_operators=[\"+\", \"-\", \"*\", \"/\"])"
      ]
    },
    {
      "cell_type": "code",
      "execution_count": null,
      "metadata": {
        "colab": {
          "background_save": true
        },
        "id": "--g2Emd5ozvz"
      },
      "outputs": [],
      "source": [
        "from pysr import PySRRegressor\n",
        "model = PySRRegressor(\n",
        "    niterations=5,\n",
        "    binary_operators=[\"+\", \"-\", \"*\", \"/\"],\n",
        "    unary_operators=[\n",
        "        \"cos\",\n",
        "        \"exp\",\n",
        "        \"sin\",\n",
        "        \"inv(x) = 1/x\",  # Custom operator (julia syntax)\n",
        "    ],\n",
        "    model_selection=\"best\",\n",
        "    loss=\"loss(x, y) = (x - y)^2\",  # Custom loss function (julia syntax)\n",
        "    batching = True,\n",
        "    batchSize = 100\n",
        ")\n"
      ]
    },
    {
      "cell_type": "code",
      "execution_count": 10,
      "metadata": {
        "id": "cArWlSw5zwIk",
        "colab": {
          "base_uri": "https://localhost:8080/"
        },
        "outputId": "4152f96d-7b67-471d-d6c2-1115a118c593"
      },
      "outputs": [
        {
          "output_type": "execute_result",
          "data": {
            "text/plain": [
              "PySRRegressor.equations = [\n",
              "\t    pick     score                                           equation  \\\n",
              "\t0         0.000000                                          3.9570515   \n",
              "\t1         0.078606                              (3.8932116 / cos(x0))   \n",
              "\t2         0.100286                 (4.7688107 - cos(x0 * -3.5116084))   \n",
              "\t3         0.005336                (4.765724 - cos(sin(x0) * 3.58376))   \n",
              "\t4         0.456883         (x0 - ((cos(x0) * 17.72494) + -21.482964))   \n",
              "\t5         0.445390  (cos(cos((x0 - -0.5156789) / 0.1408587)) - -3....   \n",
              "\t6         1.235151  (exp(cos(cos((x0 / 0.13244656) + 0.55321264)))...   \n",
              "\t7   >>>>  1.710561  (cos(cos((x0 - 1.1303052) / 0.09556082) + 0.47...   \n",
              "\t8         0.231785  (cos(sin(cos((x0 - -1.3294694) / 0.080151066))...   \n",
              "\t9         0.057814  (cos(sin(cos(cos(x0 - 1.2529254) / 0.07762672)...   \n",
              "\t10        0.000615  (cos(sin(cos(cos(sin(x0) - 1.2528056) / -0.077...   \n",
              "\t11        0.907877  exp(cos(exp(cos(-0.7438716 - (sin(sin(x0)) / 0...   \n",
              "\t\n",
              "\t        loss  complexity  \n",
              "\t0   0.107596           1  \n",
              "\t1   0.084993           4  \n",
              "\t2   0.069546           6  \n",
              "\t3   0.069176           7  \n",
              "\t4   0.043806           8  \n",
              "\t5   0.028061           9  \n",
              "\t6   0.008160          10  \n",
              "\t7   0.001475          11  \n",
              "\t8   0.001170          12  \n",
              "\t9   0.001104          13  \n",
              "\t10  0.001103          14  \n",
              "\t11  0.000445          15  \n",
              "]"
            ]
          },
          "metadata": {},
          "execution_count": 10
        }
      ],
      "source": [
        "model.fit(X, y)"
      ]
    },
    {
      "cell_type": "code",
      "execution_count": 23,
      "metadata": {
        "id": "9tbqtCFkzw6y",
        "colab": {
          "base_uri": "https://localhost:8080/"
        },
        "outputId": "617e02f7-9aa4-47e3-9b33-2b597ca0f90e"
      },
      "outputs": [
        {
          "output_type": "stream",
          "name": "stdout",
          "text": [
            "cos(cos(10.4645397559376*x0 - 11.828123701743) + 0.472653) + 3.2933707\n"
          ]
        }
      ],
      "source": [
        "print(model.equations.sympy_format[7])"
      ]
    },
    {
      "cell_type": "code",
      "source": [
        "from matplotlib import pyplot as plt\n",
        "plt.scatter(y[:], model(X)[:,0])\n",
        "plt.xlabel('Truth')\n",
        "plt.ylabel('Prediction')\n",
        "plt.show()"
      ],
      "metadata": {
        "colab": {
          "base_uri": "https://localhost:8080/",
          "height": 234
        },
        "id": "s_MnbafefzUG",
        "outputId": "3d1b00d6-b88a-4733-9afc-3518efb63da4"
      },
      "execution_count": 22,
      "outputs": [
        {
          "output_type": "error",
          "ename": "TypeError",
          "evalue": "ignored",
          "traceback": [
            "\u001b[0;31m---------------------------------------------------------------------------\u001b[0m",
            "\u001b[0;31mTypeError\u001b[0m                                 Traceback (most recent call last)",
            "\u001b[0;32m<ipython-input-22-12091781f360>\u001b[0m in \u001b[0;36m<module>\u001b[0;34m()\u001b[0m\n\u001b[1;32m      1\u001b[0m \u001b[0;32mfrom\u001b[0m \u001b[0mmatplotlib\u001b[0m \u001b[0;32mimport\u001b[0m \u001b[0mpyplot\u001b[0m \u001b[0;32mas\u001b[0m \u001b[0mplt\u001b[0m\u001b[0;34m\u001b[0m\u001b[0;34m\u001b[0m\u001b[0m\n\u001b[0;32m----> 2\u001b[0;31m \u001b[0mplt\u001b[0m\u001b[0;34m.\u001b[0m\u001b[0mscatter\u001b[0m\u001b[0;34m(\u001b[0m\u001b[0my\u001b[0m\u001b[0;34m[\u001b[0m\u001b[0;34m:\u001b[0m\u001b[0;34m]\u001b[0m\u001b[0;34m,\u001b[0m \u001b[0mmodel\u001b[0m\u001b[0;34m(\u001b[0m\u001b[0mX\u001b[0m\u001b[0;34m)\u001b[0m\u001b[0;34m[\u001b[0m\u001b[0;34m:\u001b[0m\u001b[0;34m,\u001b[0m\u001b[0;36m0\u001b[0m\u001b[0;34m]\u001b[0m\u001b[0;34m)\u001b[0m\u001b[0;34m\u001b[0m\u001b[0;34m\u001b[0m\u001b[0m\n\u001b[0m\u001b[1;32m      3\u001b[0m \u001b[0mplt\u001b[0m\u001b[0;34m.\u001b[0m\u001b[0mxlabel\u001b[0m\u001b[0;34m(\u001b[0m\u001b[0;34m'Truth'\u001b[0m\u001b[0;34m)\u001b[0m\u001b[0;34m\u001b[0m\u001b[0;34m\u001b[0m\u001b[0m\n\u001b[1;32m      4\u001b[0m \u001b[0mplt\u001b[0m\u001b[0;34m.\u001b[0m\u001b[0mylabel\u001b[0m\u001b[0;34m(\u001b[0m\u001b[0;34m'Prediction'\u001b[0m\u001b[0;34m)\u001b[0m\u001b[0;34m\u001b[0m\u001b[0;34m\u001b[0m\u001b[0m\n\u001b[1;32m      5\u001b[0m \u001b[0mplt\u001b[0m\u001b[0;34m.\u001b[0m\u001b[0mshow\u001b[0m\u001b[0;34m(\u001b[0m\u001b[0;34m)\u001b[0m\u001b[0;34m\u001b[0m\u001b[0;34m\u001b[0m\u001b[0m\n",
            "\u001b[0;31mTypeError\u001b[0m: 'PySRRegressor' object is not callable"
          ]
        }
      ]
    }
  ],
  "metadata": {
    "colab": {
      "collapsed_sections": [],
      "name": "Symbolic_Regression_Test.ipynb",
      "provenance": [],
      "authorship_tag": "ABX9TyP6kOePcjw9YRSOZpu+iTMZ",
      "include_colab_link": true
    },
    "kernelspec": {
      "display_name": "Python 3",
      "name": "python3"
    },
    "language_info": {
      "name": "python"
    }
  },
  "nbformat": 4,
  "nbformat_minor": 0
}